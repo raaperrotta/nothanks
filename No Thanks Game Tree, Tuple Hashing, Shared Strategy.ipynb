{
 "cells": [
  {
   "cell_type": "code",
   "execution_count": 1,
   "metadata": {
    "collapsed": true
   },
   "outputs": [],
   "source": [
    "# from bitarray import bitarray\n",
    "from random import random, randrange, shuffle\n",
    "from sortedcontainers import SortedSet\n",
    "from collections import defaultdict"
   ]
  },
  {
   "cell_type": "code",
   "execution_count": 2,
   "metadata": {
    "collapsed": true
   },
   "outputs": [],
   "source": [
    "num_players = 5\n",
    "starting_coins = 11\n",
    "cards = list(range(3, 36))\n",
    "discard = 9"
   ]
  },
  {
   "cell_type": "code",
   "execution_count": 3,
   "metadata": {
    "collapsed": true
   },
   "outputs": [],
   "source": [
    "num_players = 3\n",
    "starting_coins = 4\n",
    "cards = list(range(2, 16))\n",
    "discard = 2"
   ]
  },
  {
   "cell_type": "code",
   "execution_count": 4,
   "metadata": {
    "collapsed": true
   },
   "outputs": [],
   "source": [
    "num_players = 2\n",
    "starting_coins = 3\n",
    "cards = list(range(2, 8))\n",
    "discard = 1"
   ]
  },
  {
   "cell_type": "code",
   "execution_count": 5,
   "metadata": {},
   "outputs": [
    {
     "name": "stdout",
     "output_type": "stream",
     "text": [
      "21\n",
      "18\n",
      "262,144\n"
     ]
    }
   ],
   "source": [
    "\"\"\"We will store the game state as a bit array.\n",
    "We need a bit for each card for each player to represent card posession,\n",
    "enough bytes per player to represent their coins (limited by the total in play),\n",
    "an integer to store the current card. Pot size and cards in deck is calculable from these.\"\"\"\n",
    "\n",
    "num_bits = int.bit_length(starting_coins * num_players) * num_players + len(cards) * num_players + int.bit_length(len(cards))\n",
    "print(num_bits)\n",
    "\n",
    "\"\"\"We could alternatively store ownership info of each card, i.e. an int\n",
    "where 0 was unknown, 1 was in play, 2 etc. to indicate posesion by a player.\"\"\"\n",
    "\n",
    "num_bits = int.bit_length(starting_coins * num_players) * num_players + len(cards) * int.bit_length(num_players + 1)\n",
    "print(num_bits)\n",
    "\n",
    "# Upper bound on posible game states\n",
    "# Real game states will be much fewer due to restrictions on coin movement\n",
    "print('{:,.0f}'.format(2**num_bits))"
   ]
  },
  {
   "cell_type": "code",
   "execution_count": 6,
   "metadata": {
    "collapsed": true
   },
   "outputs": [],
   "source": [
    "class Strategy():\n",
    "    def __init__(self):\n",
    "        # Game tree will store at each node (default value):\n",
    "        #   visits (0): number of times node has been visited\n",
    "        #   [pass_regret, take_regret] ([0, 0]): cumulative regret\n",
    "        #   strategy (0.5): probability of taking in this state\n",
    "        #   average_strategy (0): running average of strategy over all visits\n",
    "        self.data = defaultdict(self.default)\n",
    "    def default(self):\n",
    "        return {'visits': 0, 'regret': [0, 0],\n",
    "                'strategy': 0.5, 'average_strategy': 0}\n",
    "    def __getitem__(self, key):\n",
    "        return self.data[key]\n",
    "    def __len__(self):\n",
    "        return len(self.data)\n",
    "    def items(self):\n",
    "        for key, val in self.data.items():\n",
    "            yield key, val\n",
    "class Player():\n",
    "    def __init__(self, strategy):\n",
    "        self.cards = SortedSet()\n",
    "        self.coins = starting_coins\n",
    "        self.history = {}\n",
    "        self.memory = strategy\n",
    "    def get_score(self):\n",
    "        score = 0\n",
    "        prev = 0 # (g) what if the first card is a 1? is there a 1 in this game?\n",
    "        for card in self.cards:\n",
    "            if card - prev > 1:  # not sequential\n",
    "                score += card\n",
    "            prev = card\n",
    "        score -= self.coins\n",
    "        return score\n",
    "    def process_results(self, opponent_score, verbose=False):\n",
    "        regret = self.get_score() - opponent_score  # high scores are bad, low are good\n",
    "        for state, action in self.history.items():\n",
    "            # Increment visits and record regret\n",
    "            self.memory[state]['visits'] += 1\n",
    "            if verbose: print('Visited this state {} times: {}'.format(self.memory[state]['visits'], state))\n",
    "            self.memory[state]['regret'][action] += regret\n",
    "            if verbose: print('Added {}  to {} for a total regret of {}'.format(regret, action, self.memory[state]['regret']))\n",
    "            # Recalculate current strategy\n",
    "            cum_regret = self.memory[state]['regret']\n",
    "            cum_regret = [max(0, r) for r in cum_regret]\n",
    "            if sum(cum_regret) > 0:\n",
    "                self.memory[state]['strategy'] = cum_regret[False] / sum(cum_regret)\n",
    "            else:\n",
    "                self.memory[state]['strategy'] = 0.5\n",
    "            # Update average strategy\n",
    "            visits = self.memory[state]['visits']\n",
    "            self.memory[state]['average_strategy'] *= (visits - 1) / visits\n",
    "            self.memory[state]['average_strategy'] += self.memory[state]['strategy'] / visits\n",
    "    def reset(self):\n",
    "        self.history = {}\n",
    "        self.cards = SortedSet()\n",
    "        self.coins = starting_coins\n",
    "\n",
    "class NoThanks():\n",
    "    def __init__(self, players):\n",
    "        self.players = players\n",
    "        self.deck = list(cards)\n",
    "        shuffle(self.deck)\n",
    "        del self.deck[:discard]\n",
    "        self.pot = 0\n",
    "        self.current_player = randrange(num_players)\n",
    "    def cur_card(self):\n",
    "        return self.deck[0] if self.deck else None\n",
    "    def deal(self):\n",
    "        return self.deck.pop(0)\n",
    "    def state(self):\n",
    "        player_info = ((tuple(p.cards), p.coins) for p in self.players)\n",
    "        return (self.cur_card(), self.pot, *player_info)\n",
    "    def step(self, verbose=False, use_avg=False):\n",
    "        player = self.players[self.current_player]\n",
    "        state = game.state()\n",
    "        strategy = player.memory[state]['average_strategy'] if use_avg else player.memory[state]['strategy']\n",
    "        if player.coins == 0 or random() < strategy:  # take card\n",
    "            player.history[state] = True\n",
    "            if verbose: print('player {} ({:.2f}%, {:,.0f}) takes card {} and {} coins'.format(self.current_player, 100*strategy, player.memory[state]['visits'], self.cur_card(), self.pot))\n",
    "            player.coins += self.pot\n",
    "            self.pot = 0\n",
    "            player.cards.add(self.deal())\n",
    "        else:  # no thanks\n",
    "            player.history[state] = False\n",
    "            if verbose: print('player {} ({:.2f}%, {:,.0f}) refuses card {} and adds a coin to the pot ({})'.format(self.current_player, 100*strategy, player.memory[state]['visits'], self.cur_card(), self.pot + 1))\n",
    "            player.coins -= 1\n",
    "            self.pot += 1\n",
    "        self.current_player = (self.current_player + 1) % len(self.players)\n",
    "        if verbose: print(self.state())\n",
    "    def play(self, verbose=False, use_avg=False):\n",
    "        for player in self.players:\n",
    "            player.reset()\n",
    "        if verbose: print(self.state())\n",
    "        while self.deck:\n",
    "            self.step(verbose, use_avg)\n",
    "        return [p.get_score() for p in self.players]\n",
    "        \n",
    "    def print_result(self):\n",
    "        for idx, player in enumerate(self.players):\n",
    "            print('Player {} ended with {} coins and the cards {} for a total of {} points.'.format(idx, player.coins, list(player.cards), player.get_score()))\n",
    "        "
   ]
  },
  {
   "cell_type": "code",
   "execution_count": 7,
   "metadata": {
    "collapsed": true
   },
   "outputs": [],
   "source": [
    "strategy = Strategy()\n",
    "players = [Player(strategy) for idx in range(num_players)]"
   ]
  },
  {
   "cell_type": "code",
   "execution_count": 8,
   "metadata": {
    "scrolled": false
   },
   "outputs": [
    {
     "name": "stdout",
     "output_type": "stream",
     "text": [
      "(3, 0, ((), 3), ((), 3))\n",
      "player 1 (50.00%, 0) takes card 3 and 0 coins\n",
      "(6, 0, ((), 3), ((3,), 3))\n",
      "player 0 (50.00%, 0) takes card 6 and 0 coins\n",
      "(7, 0, ((6,), 3), ((3,), 3))\n",
      "player 1 (50.00%, 0) takes card 7 and 0 coins\n",
      "(4, 0, ((6,), 3), ((3, 7), 3))\n",
      "player 0 (50.00%, 0) refuses card 4 and adds a coin to the pot (1)\n",
      "(4, 1, ((6,), 2), ((3, 7), 3))\n",
      "player 1 (50.00%, 0) refuses card 4 and adds a coin to the pot (2)\n",
      "(4, 2, ((6,), 2), ((3, 7), 2))\n",
      "player 0 (50.00%, 0) takes card 4 and 2 coins\n",
      "(5, 0, ((4, 6), 4), ((3, 7), 2))\n",
      "player 1 (50.00%, 0) takes card 5 and 0 coins\n",
      "(None, 0, ((4, 6), 4), ((3, 5, 7), 2))\n",
      "Player 0 ended with 4 coins and the cards [4, 6] for a total of 6 points.\n",
      "Player 1 ended with 2 coins and the cards [3, 5, 7] for a total of 13 points.\n"
     ]
    }
   ],
   "source": [
    "# Naive players\n",
    "game = NoThanks(players)\n",
    "game.play(verbose=True)\n",
    "game.print_result()"
   ]
  },
  {
   "cell_type": "code",
   "execution_count": 9,
   "metadata": {},
   "outputs": [
    {
     "data": {
      "text/plain": [
       "{(4, 0, ((6,), 3), ((3, 7), 3)): False,\n",
       " (4, 2, ((6,), 2), ((3, 7), 2)): True,\n",
       " (6, 0, ((), 3), ((3,), 3)): True}"
      ]
     },
     "execution_count": 9,
     "metadata": {},
     "output_type": "execute_result"
    }
   ],
   "source": [
    "players[0].history"
   ]
  },
  {
   "cell_type": "code",
   "execution_count": 10,
   "metadata": {},
   "outputs": [
    {
     "name": "stdout",
     "output_type": "stream",
     "text": [
      "Visited this state 1 times: (6, 0, ((), 3), ((3,), 3))\n",
      "Added -7.0  to True for a total regret of [0, -7.0]\n",
      "Visited this state 1 times: (4, 0, ((6,), 3), ((3, 7), 3))\n",
      "Added -7.0  to False for a total regret of [-7.0, 0]\n",
      "Visited this state 1 times: (4, 2, ((6,), 2), ((3, 7), 2))\n",
      "Added -7.0  to True for a total regret of [0, -7.0]\n",
      " \n",
      "Visited this state 1 times: (3, 0, ((), 3), ((), 3))\n",
      "Added 7.0  to True for a total regret of [0, 7.0]\n",
      "Visited this state 1 times: (7, 0, ((6,), 3), ((3,), 3))\n",
      "Added 7.0  to True for a total regret of [0, 7.0]\n",
      "Visited this state 1 times: (4, 1, ((6,), 2), ((3, 7), 3))\n",
      "Added 7.0  to False for a total regret of [7.0, 0]\n",
      "Visited this state 1 times: (5, 0, ((4, 6), 4), ((3, 7), 2))\n",
      "Added 7.0  to True for a total regret of [0, 7.0]\n",
      " \n"
     ]
    }
   ],
   "source": [
    "scores = [player.get_score() for player in players]\n",
    "total = sum(scores)\n",
    "for player, score in zip(players, scores):\n",
    "    mean_op_score = (total - score) / (num_players - 1)\n",
    "    player.process_results(mean_op_score, verbose=True)\n",
    "    print(' ')"
   ]
  },
  {
   "cell_type": "code",
   "execution_count": 11,
   "metadata": {},
   "outputs": [
    {
     "data": {
      "text/plain": [
       "([6, 13], 19, 6.0)"
      ]
     },
     "execution_count": 11,
     "metadata": {},
     "output_type": "execute_result"
    }
   ],
   "source": [
    "scores, total, mean_op_score"
   ]
  },
  {
   "cell_type": "code",
   "execution_count": 12,
   "metadata": {
    "scrolled": false
   },
   "outputs": [
    {
     "name": "stdout",
     "output_type": "stream",
     "text": [
      "Visits 16,372 states in 861,251 turns\n",
      "CPU times: user 13.4 s, sys: 55.5 ms, total: 13.5 s\n",
      "Wall time: 13.6 s\n"
     ]
    }
   ],
   "source": [
    "%%time\n",
    "for idx in range(100000):\n",
    "    game = NoThanks(players)\n",
    "    scores = game.play()\n",
    "    total = sum(scores)\n",
    "    for player, score in zip(players, scores):\n",
    "        mean_op_score = (total - score) / (num_players - 1)\n",
    "        player.process_results(mean_op_score)\n",
    "\n",
    "print('Visits {:,.0f} states in {:,.0f} turns'.format(len(strategy), sum(x['visits'] for k, x in strategy.items())))"
   ]
  },
  {
   "cell_type": "code",
   "execution_count": 13,
   "metadata": {
    "scrolled": false
   },
   "outputs": [
    {
     "name": "stdout",
     "output_type": "stream",
     "text": [
      "(2, 0, ((), 3), ((), 3))\n",
      "player 1 (64.35%, 16,450) takes card 2 and 0 coins\n",
      "(5, 0, ((), 3), ((2,), 3))\n",
      "player 0 (100.00%, 1,073) takes card 5 and 0 coins\n",
      "(4, 0, ((5,), 3), ((2,), 3))\n",
      "player 1 (70.28%, 498) takes card 4 and 0 coins\n",
      "(7, 0, ((5,), 3), ((2, 4), 3))\n",
      "player 0 (1.06%, 162) refuses card 7 and adds a coin to the pot (1)\n",
      "(7, 1, ((5,), 2), ((2, 4), 3))\n",
      "player 1 (40.55%, 164) takes card 7 and 1 coins\n",
      "(6, 0, ((5,), 2), ((2, 4, 7), 4))\n",
      "player 0 (50.00%, 63) takes card 6 and 0 coins\n",
      "(None, 0, ((5, 6), 2), ((2, 4, 7), 4))\n",
      "Player 0 ended with 2 coins and the cards [5, 6] for a total of 3 points.\n",
      "Player 1 ended with 4 coins and the cards [2, 4, 7] for a total of 9 points.\n"
     ]
    }
   ],
   "source": [
    "# Trained players\n",
    "game = NoThanks(players)\n",
    "game.play(verbose=True, use_avg=True)\n",
    "game.print_result()"
   ]
  },
  {
   "cell_type": "code",
   "execution_count": null,
   "metadata": {
    "collapsed": true
   },
   "outputs": [],
   "source": []
  }
 ],
 "metadata": {
  "kernelspec": {
   "display_name": "Python 3",
   "language": "python",
   "name": "python3"
  },
  "language_info": {
   "codemirror_mode": {
    "name": "ipython",
    "version": 3
   },
   "file_extension": ".py",
   "mimetype": "text/x-python",
   "name": "python",
   "nbconvert_exporter": "python",
   "pygments_lexer": "ipython3",
   "version": "3.6.1"
  }
 },
 "nbformat": 4,
 "nbformat_minor": 2
}
